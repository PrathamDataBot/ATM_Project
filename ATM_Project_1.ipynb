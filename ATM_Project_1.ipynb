{
 "cells": [
  {
   "cell_type": "markdown",
   "id": "e37e6c74",
   "metadata": {},
   "source": [
    "Design and implement a user-friendly ATM system that offers functionalities such as checking balance, making withdrawals, and deposits, while ensuring security and managing transaction limits effectively"
   ]
  },
  {
   "cell_type": "code",
   "execution_count": null,
   "id": "ef25756a",
   "metadata": {},
   "outputs": [],
   "source": [
    "# program\n",
    "# user input - check - balance/ update the balance either by deposit or withdrawal or simply exit "
   ]
  },
  {
   "cell_type": "code",
   "execution_count": null,
   "id": "709228af",
   "metadata": {},
   "outputs": [],
   "source": [
    "# Logic ?\n",
    "\n",
    "# dont worry username, mobile number, bank account no, pin code  -  forget all these things"
   ]
  },
  {
   "cell_type": "code",
   "execution_count": null,
   "id": "a73ffd98",
   "metadata": {},
   "outputs": [],
   "source": [
    "# Functionalities -  check balance, deposit, withdrawal, exit"
   ]
  },
  {
   "cell_type": "code",
   "execution_count": null,
   "id": "125a3518",
   "metadata": {},
   "outputs": [],
   "source": [
    "# step 1 - user input - 1 - balance, 2 - deposit , 3 - withdrawal , 4 - exit\n",
    "# lets say user input is 1: check balance\n",
    "# user input 2 : deposit (apply limit)\n",
    "# user input 3: withdrawal (applt limit)\n",
    "# user inpyt 4: exit"
   ]
  },
  {
   "cell_type": "code",
   "execution_count": 5,
   "id": "5c5683b0",
   "metadata": {},
   "outputs": [],
   "source": [
    "balance = 50000"
   ]
  },
  {
   "cell_type": "code",
   "execution_count": 3,
   "id": "99769d02",
   "metadata": {},
   "outputs": [
    {
     "name": "stdout",
     "output_type": "stream",
     "text": [
      "Select the option - 1. Check Balance 2. Deposit 3. Withdrawal 4. Exit1\n"
     ]
    }
   ],
   "source": [
    "user_input = int(input(\"Select the option - 1. Check Balance 2. Deposit 3. Withdrawal 4. Exit\"))"
   ]
  },
  {
   "cell_type": "code",
   "execution_count": 4,
   "id": "5a046a31",
   "metadata": {},
   "outputs": [
    {
     "data": {
      "text/plain": [
       "1"
      ]
     },
     "execution_count": 4,
     "metadata": {},
     "output_type": "execute_result"
    }
   ],
   "source": [
    "user_input"
   ]
  },
  {
   "cell_type": "code",
   "execution_count": 6,
   "id": "caafd3fe",
   "metadata": {},
   "outputs": [
    {
     "name": "stdout",
     "output_type": "stream",
     "text": [
      "Your balance amount in your account is Rs.50000/-\n"
     ]
    }
   ],
   "source": [
    "if user_input == 1:\n",
    "    print(f\"Your balance amount in your account is Rs.{balance}/-\")"
   ]
  },
  {
   "cell_type": "code",
   "execution_count": 7,
   "id": "a7bd8208",
   "metadata": {},
   "outputs": [],
   "source": [
    "# step 2 - deposit - limit 100000\n",
    "# check if user input is 2 or not\n",
    "# if 2, ask user to enter the amount for deposit\n",
    "# then check entered amount is greater than deposit limit\n",
    "# if yes then ask user that eneter the amount less than deposit limit\n",
    "# if no then update the balance amount by adding deposit in it"
   ]
  },
  {
   "cell_type": "code",
   "execution_count": 8,
   "id": "e9bef52c",
   "metadata": {},
   "outputs": [],
   "source": [
    "\n",
    "    "
   ]
  },
  {
   "cell_type": "code",
   "execution_count": 11,
   "id": "8ffc34af",
   "metadata": {},
   "outputs": [
    {
     "name": "stdout",
     "output_type": "stream",
     "text": [
      "Select the option - 1. Check Balance 2. Deposit 3. Withdrawal 4. Exit2\n",
      "Please enter the deposit amount1345\n",
      "Thank you using ATM service. Your updated balance is Rs.51345/-\n"
     ]
    }
   ],
   "source": [
    "user_input = int(input(\"Select the option - 1. Check Balance 2. Deposit 3. Withdrawal 4. Exit\"))\n",
    "\n",
    "deposit_limit = 100000\n",
    "if user_input == 2:\n",
    "    deposit = int(input(\"Please enter the deposit amount\"))\n",
    "    if deposit > deposit_limit:\n",
    "        print(\"Deposit amount exceeded the limit. Please deposit upto 100000.\")\n",
    "    else:\n",
    "        balance =  balance + deposit\n",
    "        print(f\"Thank you using ATM service. Your updated balance is Rs.{balance}/-\")"
   ]
  },
  {
   "cell_type": "code",
   "execution_count": 3,
   "id": "b52e172b",
   "metadata": {},
   "outputs": [],
   "source": [
    "\n",
    "def check_balance(balance):\n",
    "    print(f\"Your balance amount in your account is Rs.{balance}/-\")\n",
    "    \n",
    "def deposit(balance, deposit_limit):\n",
    "    deposit_amount = abs(float(input(\"Please enter the Deposit Amount:\")))\n",
    "    if deposit_amount > deposit_limit:\n",
    "        print(\"Please enter the amount within the given deposit limit Rs.1,00,000/-\")\n",
    "    else:\n",
    "        balance += deposit_amount\n",
    "        print(f\"Thank you using ATM service. Your updated balance is Rs.{balance}/-\")\n",
    "    return balance\n",
    "\n",
    "def withdrawal(balance):\n",
    "    wd_amount = abs(float(input(\"Please enter the Withdrawal Amount:\")))\n",
    "    if wd_amount > balance:\n",
    "        print(\"Please enter the correct withdrawal amount\")\n",
    "    else:\n",
    "        balance -= wd_amount\n",
    "        print(f\"Thank you using ATM service. Your updated balance is Rs.{balance}/-\")\n",
    "    return balance\n",
    "\n",
    "def exit():\n",
    "     print(f\"Thank you using ATM service\")\n",
    "    \n",
    "\n",
    "def ATM(balance = 50000, deposit_limit = 100000):\n",
    "    try:\n",
    "        while True:\n",
    "            user_input = int(input(\"Select the option - 1. Check Balance 2. Deposit 3. Withdrawal 4. Exit\\n\"))\n",
    "            if user_input == 1:\n",
    "                check_balance(balance)\n",
    "            elif user_input == 2:\n",
    "                balance = deposit(balance,deposit_limit)\n",
    "            elif user_input == 3:\n",
    "                balance = withdrawal(balance)\n",
    "            elif user_input == 4:\n",
    "                exit()\n",
    "                break\n",
    "            else:\n",
    "                print(\"Invalid Input\")\n",
    "    except Exception as e:\n",
    "        print(e)"
   ]
  },
  {
   "cell_type": "code",
   "execution_count": 4,
   "id": "d76bb512",
   "metadata": {},
   "outputs": [
    {
     "name": "stdout",
     "output_type": "stream",
     "text": [
      "Select the option - 1. Check Balance 2. Deposit 3. Withdrawal 4. Exit\n",
      "1\n",
      "Your balance amount in your account is Rs.50000/-\n",
      "Select the option - 1. Check Balance 2. Deposit 3. Withdrawal 4. Exit\n",
      "2\n",
      "Please enter the Deposit Amount:3000.30\n",
      "Thank you using ATM service. Your updated balance is Rs.53000.3/-\n",
      "Select the option - 1. Check Balance 2. Deposit 3. Withdrawal 4. Exit\n",
      "5\n",
      "Invalid Input\n",
      "Select the option - 1. Check Balance 2. Deposit 3. Withdrawal 4. Exit\n",
      "0\n",
      "Invalid Input\n",
      "Select the option - 1. Check Balance 2. Deposit 3. Withdrawal 4. Exit\n",
      "7\n",
      "Invalid Input\n",
      "Select the option - 1. Check Balance 2. Deposit 3. Withdrawal 4. Exit\n",
      "3\n",
      "Please enter the Withdrawal Amount:8999\n",
      "Thank you using ATM service. Your updated balance is Rs.44001.3/-\n",
      "Select the option - 1. Check Balance 2. Deposit 3. Withdrawal 4. Exit\n",
      "4\n",
      "Thank you using ATM service\n"
     ]
    }
   ],
   "source": [
    "ATM()"
   ]
  },
  {
   "cell_type": "code",
   "execution_count": null,
   "id": "23e3efe5",
   "metadata": {},
   "outputs": [],
   "source": [
    "# while loop goes on until the condition is true\n",
    "# user_input only once\n",
    "# while loop - condition is True-  "
   ]
  },
  {
   "cell_type": "code",
   "execution_count": 5,
   "id": "12570eb4",
   "metadata": {},
   "outputs": [
    {
     "data": {
      "text/plain": [
       "56000"
      ]
     },
     "execution_count": 5,
     "metadata": {},
     "output_type": "execute_result"
    }
   ],
   "source": [
    "47000 - (-9000)"
   ]
  },
  {
   "cell_type": "code",
   "execution_count": null,
   "id": "561b2786",
   "metadata": {},
   "outputs": [],
   "source": []
  }
 ],
 "metadata": {
  "kernelspec": {
   "display_name": "Python 3 (ipykernel)",
   "language": "python",
   "name": "python3"
  },
  "language_info": {
   "codemirror_mode": {
    "name": "ipython",
    "version": 3
   },
   "file_extension": ".py",
   "mimetype": "text/x-python",
   "name": "python",
   "nbconvert_exporter": "python",
   "pygments_lexer": "ipython3",
   "version": "3.9.13"
  }
 },
 "nbformat": 4,
 "nbformat_minor": 5
}
